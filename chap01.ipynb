{
 "cells": [
  {
   "cell_type": "code",
   "execution_count": 1,
   "metadata": {},
   "outputs": [
    {
     "output_type": "stream",
     "name": "stdout",
     "text": "1\n10\n"
    }
   ],
   "source": [
    "print(1)\n",
    "print(10)"
   ]
  },
  {
   "cell_type": "code",
   "execution_count": 2,
   "metadata": {},
   "outputs": [
    {
     "output_type": "stream",
     "name": "stdout",
     "text": "2\n8\n"
    }
   ],
   "source": [
    "print(1 + 1)\n",
    "print(10 - 2)"
   ]
  },
  {
   "cell_type": "code",
   "execution_count": 3,
   "metadata": {},
   "outputs": [
    {
     "output_type": "stream",
     "name": "stdout",
     "text": "11\n"
    }
   ],
   "source": [
    "print('1' + '1')"
   ]
  },
  {
   "cell_type": "code",
   "execution_count": 4,
   "metadata": {},
   "outputs": [
    {
     "output_type": "stream",
     "name": "stdout",
     "text": "Pythonの世界へようこそ\nPythonはとってもとってもとっても楽しいですよ\n"
    }
   ],
   "source": [
    "print('Python' + 'の世界へようこそ')\n",
    "print('Pythonは' + 'とっても' * 3 + '楽しいですよ' )"
   ]
  },
  {
   "cell_type": "code",
   "execution_count": 5,
   "metadata": {},
   "outputs": [
    {
     "output_type": "stream",
     "name": "stdout",
     "text": "はじめまして松田です身体を動かすのが好きです\nはじめまして\n松田です\n身体を動かすのが好きです\n引用符には、'と\"があります\n"
    }
   ],
   "source": [
    "print('はじめまして松田です身体を動かすのが好きです')\n",
    "print('はじめまして\\n松田です\\n身体を動かすのが好きです')\n",
    "print('引用符には、\\'と\\\"があります')"
   ]
  },
  {
   "cell_type": "code",
   "execution_count": 6,
   "metadata": {},
   "outputs": [
    {
     "output_type": "stream",
     "name": "stdout",
     "text": "半径が3cmの円の直径は、\n6\nその円の円周の長さは、直径×円周率で求まるため、\n18.84\n"
    }
   ],
   "source": [
    "print('半径が3cmの円の直径は、')\n",
    "print(3 * 2)\n",
    "print('その円の円周の長さは、直径×円周率で求まるため、')\n",
    "print(3 * 2 * 3.14)"
   ]
  },
  {
   "cell_type": "code",
   "execution_count": 7,
   "metadata": {},
   "outputs": [
    {
     "output_type": "stream",
     "name": "stdout",
     "text": "松田\n22\n"
    }
   ],
   "source": [
    "name = '松田'\n",
    "age = 22\n",
    "print(name)\n",
    "print(age)"
   ]
  },
  {
   "cell_type": "code",
   "execution_count": 8,
   "metadata": {},
   "outputs": [
    {
     "output_type": "stream",
     "name": "stdout",
     "text": "半径が3cmの円の直径は、\n6\nその円の円周の長さは、\n18.84\n"
    }
   ],
   "source": [
    "print('半径が3cmの円の直径は、')\n",
    "dia = 3 * 2 # diaはdiameter(直径)の略\n",
    "print(dia)\n",
    "print('その円の円周の長さは、')\n",
    "print(dia * 3.14)"
   ]
  },
  {
   "cell_type": "code",
   "execution_count": 9,
   "metadata": {},
   "outputs": [
    {
     "output_type": "stream",
     "name": "stdout",
     "text": "浅木の年齢は\n20\nうそ。本当は\n24\n"
    }
   ],
   "source": [
    "age = 20\n",
    "print('浅木の年齢は')\n",
    "print(age)\n",
    "age = 24\n",
    "print('うそ。本当は')\n",
    "print(age)"
   ]
  },
  {
   "cell_type": "code",
   "execution_count": 10,
   "metadata": {},
   "outputs": [],
   "source": [
    "name, age = '浅木', 24"
   ]
  },
  {
   "cell_type": "code",
   "execution_count": 11,
   "metadata": {},
   "outputs": [
    {
     "output_type": "stream",
     "name": "stdout",
     "text": "浅木先輩の今年の年齢は…\n24\n来年は…\n24\n再来年は…\n24\n"
    }
   ],
   "source": [
    "age = 24\n",
    "print('浅木先輩の今年の年齢は…')\n",
    "print(age)\n",
    "age + 1\n",
    "print('来年は…')\n",
    "print(age)\n",
    "age + 1\n",
    "print('再来年は…')\n",
    "print(age)"
   ]
  },
  {
   "cell_type": "code",
   "execution_count": 12,
   "metadata": {},
   "outputs": [
    {
     "output_type": "stream",
     "name": "stdout",
     "text": "浅木先輩の今年の年齢は…\n24\n来年は…\n25\n再来年は…\n26\n"
    }
   ],
   "source": [
    "age = 24\n",
    "print('浅木先輩の今年の年齢は…')\n",
    "print(age)\n",
    "age = age + 1\n",
    "print('来年は…')\n",
    "print(age)\n",
    "age = age + 1\n",
    "print('再来年は…')\n",
    "print(age)"
   ]
  },
  {
   "cell_type": "code",
   "execution_count": 13,
   "metadata": {},
   "outputs": [
    {
     "output_type": "error",
     "ename": "NameError",
     "evalue": "name 'price' is not defined",
     "traceback": [
      "\u001b[0;31m---------------------------------------------------------------------------\u001b[0m",
      "\u001b[0;31mNameError\u001b[0m                                 Traceback (most recent call last)",
      "\u001b[0;32m<ipython-input-13-82ccfe92a93b>\u001b[0m in \u001b[0;36m<module>\u001b[0;34m\u001b[0m\n\u001b[1;32m      1\u001b[0m \u001b[0mage\u001b[0m \u001b[0;34m+=\u001b[0m \u001b[0;36m1\u001b[0m\u001b[0;34m\u001b[0m\u001b[0;34m\u001b[0m\u001b[0m\n\u001b[0;32m----> 2\u001b[0;31m \u001b[0mprice\u001b[0m \u001b[0;34m*=\u001b[0m \u001b[0;36m1.5\u001b[0m\u001b[0;34m\u001b[0m\u001b[0;34m\u001b[0m\u001b[0m\n\u001b[0m",
      "\u001b[0;31mNameError\u001b[0m: name 'price' is not defined"
     ]
    }
   ],
   "source": [
    "age += 1\n",
    "price *= 1.5"
   ]
  },
  {
   "cell_type": "code",
   "execution_count": 14,
   "metadata": {},
   "outputs": [
    {
     "output_type": "stream",
     "name": "stdout",
     "text": "おおsudoよ、そなたがくるのを待っておったぞ!\n"
    }
   ],
   "source": [
    "name = input('あなたの名前を入力してください >>')\n",
    "print('おお' + name + 'よ、そなたがくるのを待っておったぞ!')"
   ]
  },
  {
   "cell_type": "code",
   "execution_count": 15,
   "metadata": {},
   "outputs": [
    {
     "output_type": "error",
     "ename": "TypeError",
     "evalue": "unsupported operand type(s) for /: 'str' and 'str'",
     "traceback": [
      "\u001b[0;31m---------------------------------------------------------------------------\u001b[0m",
      "\u001b[0;31mTypeError\u001b[0m                                 Traceback (most recent call last)",
      "\u001b[0;32m<ipython-input-15-04efd50d37ab>\u001b[0m in \u001b[0;36m<module>\u001b[0;34m\u001b[0m\n\u001b[1;32m      1\u001b[0m \u001b[0mprice\u001b[0m \u001b[0;34m=\u001b[0m \u001b[0minput\u001b[0m\u001b[0;34m(\u001b[0m\u001b[0;34m'料金を入力 >>'\u001b[0m\u001b[0;34m)\u001b[0m\u001b[0;34m\u001b[0m\u001b[0;34m\u001b[0m\u001b[0m\n\u001b[1;32m      2\u001b[0m \u001b[0mnumber\u001b[0m \u001b[0;34m=\u001b[0m \u001b[0minput\u001b[0m\u001b[0;34m(\u001b[0m\u001b[0;34m'人数を入力 >>'\u001b[0m\u001b[0;34m)\u001b[0m\u001b[0;34m\u001b[0m\u001b[0;34m\u001b[0m\u001b[0m\n\u001b[0;32m----> 3\u001b[0;31m \u001b[0mpayment\u001b[0m \u001b[0;34m=\u001b[0m \u001b[0mprice\u001b[0m \u001b[0;34m/\u001b[0m \u001b[0mnumber\u001b[0m\u001b[0;34m\u001b[0m\u001b[0;34m\u001b[0m\u001b[0m\n\u001b[0m\u001b[1;32m      4\u001b[0m \u001b[0mprint\u001b[0m\u001b[0;34m(\u001b[0m\u001b[0;34m'お支払いは'\u001b[0m \u001b[0;34m+\u001b[0m \u001b[0mpayment\u001b[0m \u001b[0;34m+\u001b[0m \u001b[0;34m'円です'\u001b[0m\u001b[0;34m)\u001b[0m\u001b[0;34m\u001b[0m\u001b[0;34m\u001b[0m\u001b[0m\n",
      "\u001b[0;31mTypeError\u001b[0m: unsupported operand type(s) for /: 'str' and 'str'"
     ]
    }
   ],
   "source": [
    "price = input('料金を入力 >>')\n",
    "number = input('人数を入力 >>')\n",
    "payment = price / number\n",
    "print('お支払いは' + payment + '円です')"
   ]
  },
  {
   "cell_type": "code",
   "execution_count": 16,
   "metadata": {},
   "outputs": [
    {
     "output_type": "stream",
     "name": "stdout",
     "text": "松田\n23\n175.6\n"
    }
   ],
   "source": [
    "x = '松田' # 名前\n",
    "print(x)\n",
    "x = 23    # 年齢\n",
    "print(x)\n",
    "x = 175.6 # 身長\n",
    "print(x)"
   ]
  },
  {
   "cell_type": "code",
   "execution_count": 17,
   "metadata": {},
   "outputs": [
    {
     "output_type": "stream",
     "name": "stdout",
     "text": "<class 'int'>\n"
    }
   ],
   "source": [
    "x = 10\n",
    "print(type(x))"
   ]
  },
  {
   "cell_type": "code",
   "execution_count": 18,
   "metadata": {},
   "outputs": [
    {
     "output_type": "stream",
     "name": "stdout",
     "text": "<class 'str'>\n"
    }
   ],
   "source": [
    "price = input('料金を入力 >>')\n",
    "print(type(price))"
   ]
  },
  {
   "cell_type": "code",
   "execution_count": 19,
   "metadata": {},
   "outputs": [
    {
     "output_type": "stream",
     "name": "stdout",
     "text": "3\n<class 'int'>\n3.14\n<class 'str'>\n3.143.14\n"
    }
   ],
   "source": [
    "x = 3.14\n",
    "y = int(x)\n",
    "print(y)       # 変換結果を表示\n",
    "print(type(y)) # 変換後のデータ型を表示\n",
    "z = str(x)\n",
    "print(z)       # 変換結果を表示\n",
    "print(type(z)) # 変換後のデータ型を表示\n",
    "print(z * 2)"
   ]
  },
  {
   "cell_type": "code",
   "execution_count": 20,
   "metadata": {},
   "outputs": [
    {
     "output_type": "error",
     "ename": "TypeError",
     "evalue": "can only concatenate str (not \"int\") to str",
     "traceback": [
      "\u001b[0;31m---------------------------------------------------------------------------\u001b[0m",
      "\u001b[0;31mTypeError\u001b[0m                                 Traceback (most recent call last)",
      "\u001b[0;32m<ipython-input-20-390d85be8303>\u001b[0m in \u001b[0;36m<module>\u001b[0;34m\u001b[0m\n\u001b[1;32m      5\u001b[0m \u001b[0mpayment\u001b[0m \u001b[0;34m=\u001b[0m \u001b[0mprice\u001b[0m \u001b[0;34m/\u001b[0m \u001b[0mnumber\u001b[0m      \u001b[0;31m# 割り算の結果はfloat型\u001b[0m\u001b[0;34m\u001b[0m\u001b[0;34m\u001b[0m\u001b[0m\n\u001b[1;32m      6\u001b[0m \u001b[0mpayment\u001b[0m \u001b[0;34m=\u001b[0m \u001b[0mint\u001b[0m\u001b[0;34m(\u001b[0m\u001b[0mpayment\u001b[0m\u001b[0;34m)\u001b[0m\u001b[0;34m\u001b[0m\u001b[0;34m\u001b[0m\u001b[0m\n\u001b[0;32m----> 7\u001b[0;31m \u001b[0mprint\u001b[0m\u001b[0;34m(\u001b[0m\u001b[0;34m'お支払いは'\u001b[0m \u001b[0;34m+\u001b[0m \u001b[0mpayment\u001b[0m \u001b[0;34m+\u001b[0m \u001b[0;34m'円です'\u001b[0m\u001b[0;34m)\u001b[0m\u001b[0;34m\u001b[0m\u001b[0;34m\u001b[0m\u001b[0m\n\u001b[0m",
      "\u001b[0;31mTypeError\u001b[0m: can only concatenate str (not \"int\") to str"
     ]
    }
   ],
   "source": [
    "price = input('料金を入力 >>')  # キーボード入力結果はstr型\n",
    "price = int(price)\n",
    "number = input('人数を入力 >>') # キーボード入力結果はstr型\n",
    "number = int(number)\n",
    "payment = price / number      # 割り算の結果はfloat型\n",
    "payment = int(payment)\n",
    "print('お支払いは' + payment + '円です')"
   ]
  },
  {
   "cell_type": "code",
   "execution_count": 21,
   "metadata": {},
   "outputs": [
    {
     "output_type": "stream",
     "name": "stdout",
     "text": "私の名前は松田光太で、年齢は23歳で、身長は175.6cmです\n"
    }
   ],
   "source": [
    "name = '松田光太'\n",
    "age = 23\n",
    "height =175.6\n",
    "print('私の名前は' + name + 'で、年齢は' + str(age) +\n",
    "      '歳で、身長は' + str(height) + 'cmです')"
   ]
  },
  {
   "cell_type": "code",
   "execution_count": 22,
   "metadata": {},
   "outputs": [
    {
     "output_type": "stream",
     "name": "stdout",
     "text": "私の名前は松田光太で、年齢は23歳で、身長は175.6cmです\n"
    }
   ],
   "source": [
    "name = '松田光太'\n",
    "age = 23\n",
    "height = 175.6\n",
    "print('私の名前は{}で、年齢は{}歳で、身長は{}cmです'\n",
    "      .format(name, age, height))"
   ]
  },
  {
   "cell_type": "code",
   "execution_count": 23,
   "metadata": {},
   "outputs": [
    {
     "output_type": "stream",
     "name": "stdout",
     "text": "お支払いは100円です\n"
    }
   ],
   "source": [
    "price = int(input('料金を入力 >>'))\n",
    "number = int(input('人数を入力 >>'))\n",
    "payment = int(price / number)\n",
    "print('お支払いは{}円です'.format(payment))"
   ]
  },
  {
   "cell_type": "code",
   "execution_count": 24,
   "metadata": {},
   "outputs": [
    {
     "output_type": "stream",
     "name": "stdout",
     "text": "Defaulting to user installation because normal site-packages is not writeable\nRequirement already satisfied: jupyterthemes in /home/ksudo91/.local/lib/python3.7/site-packages (0.20.0)\nRequirement already satisfied: jupyter-core in /home/ksudo91/.local/lib/python3.7/site-packages (from jupyterthemes) (4.6.3)\nRequirement already satisfied: notebook>=5.6.0 in /home/ksudo91/.local/lib/python3.7/site-packages (from jupyterthemes) (6.1.5)\nRequirement already satisfied: lesscpy>=0.11.2 in /home/ksudo91/.local/lib/python3.7/site-packages (from jupyterthemes) (0.14.0)\nRequirement already satisfied: ipython>=5.4.1 in /home/ksudo91/.local/lib/python3.7/site-packages (from jupyterthemes) (7.19.0)\nRequirement already satisfied: matplotlib>=1.4.3 in /home/ksudo91/.local/lib/python3.7/site-packages (from jupyterthemes) (3.3.3)\nRequirement already satisfied: traitlets in /home/ksudo91/.local/lib/python3.7/site-packages (from jupyter-core->jupyterthemes) (5.0.5)\nRequirement already satisfied: argon2-cffi in /home/ksudo91/.local/lib/python3.7/site-packages (from notebook>=5.6.0->jupyterthemes) (20.1.0)\nRequirement already satisfied: ipython-genutils in /home/ksudo91/.local/lib/python3.7/site-packages (from notebook>=5.6.0->jupyterthemes) (0.2.0)\nRequirement already satisfied: terminado>=0.8.3 in /home/ksudo91/.local/lib/python3.7/site-packages (from notebook>=5.6.0->jupyterthemes) (0.9.1)\nRequirement already satisfied: nbconvert in /home/ksudo91/.local/lib/python3.7/site-packages (from notebook>=5.6.0->jupyterthemes) (6.0.7)\nRequirement already satisfied: prometheus-client in /home/ksudo91/.local/lib/python3.7/site-packages (from notebook>=5.6.0->jupyterthemes) (0.8.0)\nRequirement already satisfied: nbformat in /home/ksudo91/.local/lib/python3.7/site-packages (from notebook>=5.6.0->jupyterthemes) (5.0.8)\nRequirement already satisfied: Send2Trash in /home/ksudo91/.local/lib/python3.7/site-packages (from notebook>=5.6.0->jupyterthemes) (1.5.0)\nRequirement already satisfied: ipykernel in /home/ksudo91/.local/lib/python3.7/site-packages (from notebook>=5.6.0->jupyterthemes) (5.3.4)\nRequirement already satisfied: tornado>=5.0 in /home/ksudo91/.local/lib/python3.7/site-packages (from notebook>=5.6.0->jupyterthemes) (6.1)\nRequirement already satisfied: jinja2 in /home/ksudo91/.local/lib/python3.7/site-packages (from notebook>=5.6.0->jupyterthemes) (2.11.2)\nRequirement already satisfied: jupyter-client>=5.3.4 in /home/ksudo91/.local/lib/python3.7/site-packages (from notebook>=5.6.0->jupyterthemes) (6.1.7)\nRequirement already satisfied: pyzmq>=17 in /home/ksudo91/.local/lib/python3.7/site-packages (from notebook>=5.6.0->jupyterthemes) (20.0.0)\nRequirement already satisfied: ply in /home/ksudo91/.local/lib/python3.7/site-packages (from lesscpy>=0.11.2->jupyterthemes) (3.11)\nRequirement already satisfied: six in /usr/lib/python3/dist-packages (from lesscpy>=0.11.2->jupyterthemes) (1.12.0)\nRequirement already satisfied: backcall in /home/ksudo91/.local/lib/python3.7/site-packages (from ipython>=5.4.1->jupyterthemes) (0.2.0)\nRequirement already satisfied: pexpect>4.3; sys_platform != \"win32\" in /home/ksudo91/.local/lib/python3.7/site-packages (from ipython>=5.4.1->jupyterthemes) (4.8.0)\nRequirement already satisfied: decorator in /home/ksudo91/.local/lib/python3.7/site-packages (from ipython>=5.4.1->jupyterthemes) (4.4.2)\nRequirement already satisfied: jedi>=0.10 in /home/ksudo91/.local/lib/python3.7/site-packages (from ipython>=5.4.1->jupyterthemes) (0.17.2)\nRequirement already satisfied: pickleshare in /home/ksudo91/.local/lib/python3.7/site-packages (from ipython>=5.4.1->jupyterthemes) (0.7.5)\nRequirement already satisfied: setuptools>=18.5 in /usr/lib/python3/dist-packages (from ipython>=5.4.1->jupyterthemes) (40.8.0)\nRequirement already satisfied: pygments in /home/ksudo91/.local/lib/python3.7/site-packages (from ipython>=5.4.1->jupyterthemes) (2.7.2)\nRequirement already satisfied: prompt-toolkit!=3.0.0,!=3.0.1,<3.1.0,>=2.0.0 in /home/ksudo91/.local/lib/python3.7/site-packages (from ipython>=5.4.1->jupyterthemes) (3.0.8)\nRequirement already satisfied: pyparsing!=2.0.4,!=2.1.2,!=2.1.6,>=2.0.3 in /home/ksudo91/.local/lib/python3.7/site-packages (from matplotlib>=1.4.3->jupyterthemes) (2.4.7)\nRequirement already satisfied: kiwisolver>=1.0.1 in /home/ksudo91/.local/lib/python3.7/site-packages (from matplotlib>=1.4.3->jupyterthemes) (1.3.1)\nRequirement already satisfied: numpy>=1.15 in /usr/local/lib/python3.7/dist-packages (from matplotlib>=1.4.3->jupyterthemes) (1.19.4)\nRequirement already satisfied: pillow>=6.2.0 in /home/ksudo91/.local/lib/python3.7/site-packages (from matplotlib>=1.4.3->jupyterthemes) (8.0.1)\nRequirement already satisfied: python-dateutil>=2.1 in /usr/local/lib/python3.7/dist-packages (from matplotlib>=1.4.3->jupyterthemes) (2.8.1)\nRequirement already satisfied: cycler>=0.10 in /home/ksudo91/.local/lib/python3.7/site-packages (from matplotlib>=1.4.3->jupyterthemes) (0.10.0)\nRequirement already satisfied: cffi>=1.0.0 in /home/ksudo91/.local/lib/python3.7/site-packages (from argon2-cffi->notebook>=5.6.0->jupyterthemes) (1.14.3)\nRequirement already satisfied: ptyprocess; os_name != \"nt\" in /home/ksudo91/.local/lib/python3.7/site-packages (from terminado>=0.8.3->notebook>=5.6.0->jupyterthemes) (0.6.0)\nRequirement already satisfied: defusedxml in /home/ksudo91/.local/lib/python3.7/site-packages (from nbconvert->notebook>=5.6.0->jupyterthemes) (0.6.0)\nRequirement already satisfied: jupyterlab-pygments in /home/ksudo91/.local/lib/python3.7/site-packages (from nbconvert->notebook>=5.6.0->jupyterthemes) (0.1.2)\nRequirement already satisfied: pandocfilters>=1.4.1 in /home/ksudo91/.local/lib/python3.7/site-packages (from nbconvert->notebook>=5.6.0->jupyterthemes) (1.4.3)\nRequirement already satisfied: testpath in /home/ksudo91/.local/lib/python3.7/site-packages (from nbconvert->notebook>=5.6.0->jupyterthemes) (0.4.4)\nRequirement already satisfied: mistune<2,>=0.8.1 in /home/ksudo91/.local/lib/python3.7/site-packages (from nbconvert->notebook>=5.6.0->jupyterthemes) (0.8.4)\nRequirement already satisfied: entrypoints>=0.2.2 in /usr/lib/python3/dist-packages (from nbconvert->notebook>=5.6.0->jupyterthemes) (0.3)\nRequirement already satisfied: bleach in /home/ksudo91/.local/lib/python3.7/site-packages (from nbconvert->notebook>=5.6.0->jupyterthemes) (3.2.1)\nRequirement already satisfied: nbclient<0.6.0,>=0.5.0 in /home/ksudo91/.local/lib/python3.7/site-packages (from nbconvert->notebook>=5.6.0->jupyterthemes) (0.5.1)\nRequirement already satisfied: jsonschema!=2.5.0,>=2.4 in /home/ksudo91/.local/lib/python3.7/site-packages (from nbformat->notebook>=5.6.0->jupyterthemes) (3.2.0)\nRequirement already satisfied: MarkupSafe>=0.23 in /home/ksudo91/.local/lib/python3.7/site-packages (from jinja2->notebook>=5.6.0->jupyterthemes) (1.1.1)\nRequirement already satisfied: parso<0.8.0,>=0.7.0 in /home/ksudo91/.local/lib/python3.7/site-packages (from jedi>=0.10->ipython>=5.4.1->jupyterthemes) (0.7.1)\nRequirement already satisfied: wcwidth in /home/ksudo91/.local/lib/python3.7/site-packages (from prompt-toolkit!=3.0.0,!=3.0.1,<3.1.0,>=2.0.0->ipython>=5.4.1->jupyterthemes) (0.2.5)\nRequirement already satisfied: pycparser in /home/ksudo91/.local/lib/python3.7/site-packages (from cffi>=1.0.0->argon2-cffi->notebook>=5.6.0->jupyterthemes) (2.20)\nRequirement already satisfied: webencodings in /home/ksudo91/.local/lib/python3.7/site-packages (from bleach->nbconvert->notebook>=5.6.0->jupyterthemes) (0.5.1)\nRequirement already satisfied: packaging in /home/ksudo91/.local/lib/python3.7/site-packages (from bleach->nbconvert->notebook>=5.6.0->jupyterthemes) (20.4)\nRequirement already satisfied: async-generator in /home/ksudo91/.local/lib/python3.7/site-packages (from nbclient<0.6.0,>=0.5.0->nbconvert->notebook>=5.6.0->jupyterthemes) (1.10)\nRequirement already satisfied: nest-asyncio in /home/ksudo91/.local/lib/python3.7/site-packages (from nbclient<0.6.0,>=0.5.0->nbconvert->notebook>=5.6.0->jupyterthemes) (1.4.3)\nRequirement already satisfied: attrs>=17.4.0 in /home/ksudo91/.local/lib/python3.7/site-packages (from jsonschema!=2.5.0,>=2.4->nbformat->notebook>=5.6.0->jupyterthemes) (20.3.0)\nRequirement already satisfied: pyrsistent>=0.14.0 in /home/ksudo91/.local/lib/python3.7/site-packages (from jsonschema!=2.5.0,>=2.4->nbformat->notebook>=5.6.0->jupyterthemes) (0.17.3)\nRequirement already satisfied: importlib-metadata; python_version < \"3.8\" in /usr/local/lib/python3.7/dist-packages (from jsonschema!=2.5.0,>=2.4->nbformat->notebook>=5.6.0->jupyterthemes) (2.0.0)\nRequirement already satisfied: zipp>=0.5 in /usr/local/lib/python3.7/dist-packages (from importlib-metadata; python_version < \"3.8\"->jsonschema!=2.5.0,>=2.4->nbformat->notebook>=5.6.0->jupyterthemes) (3.4.0)\n"
    }
   ],
   "source": [
    "!pip3 install jupyterthemes"
   ]
  },
  {
   "cell_type": "code",
   "execution_count": 26,
   "metadata": {},
   "outputs": [
    {
     "output_type": "error",
     "ename": "NameError",
     "evalue": "name 'jt' is not defined",
     "traceback": [
      "\u001b[0;31m---------------------------------------------------------------------------\u001b[0m",
      "\u001b[0;31mNameError\u001b[0m                                 Traceback (most recent call last)",
      "\u001b[0;32m<ipython-input-26-77bb524fe3e4>\u001b[0m in \u001b[0;36m<module>\u001b[0;34m\u001b[0m\n\u001b[0;32m----> 1\u001b[0;31m \u001b[0mjt\u001b[0m \u001b[0;34m-\u001b[0m\u001b[0ml\u001b[0m\u001b[0;34m\u001b[0m\u001b[0;34m\u001b[0m\u001b[0m\n\u001b[0m",
      "\u001b[0;31mNameError\u001b[0m: name 'jt' is not defined"
     ]
    }
   ],
   "source": [
    "jt -l"
   ]
  },
  {
   "cell_type": "code",
   "execution_count": null,
   "metadata": {},
   "outputs": [],
   "source": []
  }
 ],
 "metadata": {
  "kernelspec": {
   "display_name": "Python 3.7.3 64-bit",
   "language": "python",
   "name": "python37364bit8313eb2c5b854419a290bc5b6fd8dc22"
  },
  "language_info": {
   "codemirror_mode": {
    "name": "ipython",
    "version": 3
   },
   "file_extension": ".py",
   "mimetype": "text/x-python",
   "name": "python",
   "nbconvert_exporter": "python",
   "pygments_lexer": "ipython3",
   "version": "3.7.3-final"
  }
 },
 "nbformat": 4,
 "nbformat_minor": 2
}